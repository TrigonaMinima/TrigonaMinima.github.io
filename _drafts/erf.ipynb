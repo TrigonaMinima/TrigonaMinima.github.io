{
 "cells": [
  {
   "cell_type": "code",
   "execution_count": 1,
   "metadata": {},
   "outputs": [
    {
     "name": "stdout",
     "output_type": "stream",
     "text": [
      "  x      erf(x) \n",
      "----- -----------\n",
      "-3.00 -0.99997791\n",
      "-2.00 -0.99532227\n",
      "-1.00 -0.84270079\n",
      "-0.50 -0.52049988\n",
      "-0.25 -0.27632639\n",
      " 0.00  0.00000000\n",
      " 0.25  0.27632639\n",
      " 0.50  0.52049988\n",
      " 1.00  0.84270079\n",
      " 2.00  0.99532227\n",
      " 3.00  0.99997791\n"
     ]
    }
   ],
   "source": [
    "import math\n",
    "\n",
    "print('{:^5}    {:7}'.format('x', 'erf(x)'))\n",
    "print('{:-^5} {:-^11}'.format('', ''))\n",
    "for x in [-3, -2, -1, -0.5, -0.25, 0, 0.25, 0.5, 1, 2, 3]:\n",
    "    print('{:5.2f} {:11.8f}'.format(x, math.erf(x)))"
   ]
  },
  {
   "cell_type": "code",
   "execution_count": 2,
   "metadata": {},
   "outputs": [
    {
     "name": "stdout",
     "output_type": "stream",
     "text": [
      "  x      erf(x) \n",
      "----- -----------\n",
      "-3.00 -0.99997791\n",
      "-2.00 -0.99532227\n",
      "-1.00 -0.84270079\n",
      "-0.50 -0.52049988\n",
      "-0.25 -0.27632639\n",
      " 0.00  0.00000000\n",
      " 0.25  0.27632639\n",
      " 0.50  0.52049988\n",
      " 1.00  0.84270079\n",
      " 2.00  0.99532227\n",
      " 3.00  0.99997791\n"
     ]
    }
   ],
   "source": [
    "from scipy.special import erf\n",
    "\n",
    "print('{:^5}    {:7}'.format('x', 'erf(x)'))\n",
    "print('{:-^5} {:-^11}'.format('', ''))\n",
    "for x in [-3, -2, -1, -0.5, -0.25, 0, 0.25, 0.5, 1, 2, 3]:\n",
    "    print('{:5.2f} {:11.8f}'.format(x, erf(x)))"
   ]
  },
  {
   "cell_type": "code",
   "execution_count": 10,
   "metadata": {},
   "outputs": [
    {
     "name": "stdout",
     "output_type": "stream",
     "text": [
      "  x     math.erf   approx erf\n",
      "----- ----------- -----------\n",
      "-3.00 -0.99997791 -0.99997789\n",
      "-2.00 -0.99532227 -0.99532214\n",
      "-1.00 -0.84270079 -0.84270069\n",
      "-0.50 -0.52049988 -0.52050002\n",
      "-0.25 -0.27632639 -0.27632626\n",
      " 0.00  0.00000000  0.00000000\n",
      " 0.01  0.01128342  0.01128348\n",
      " 0.25  0.27632639  0.27632626\n",
      " 0.50  0.52049988  0.52050002\n",
      " 1.00  0.84270079  0.84270069\n",
      " 2.00  0.99532227  0.99532214\n",
      " 3.00  0.99997791  0.99997789\n"
     ]
    }
   ],
   "source": [
    "import math\n",
    "def erf(x):\n",
    "    # save the sign of x\n",
    "    sign = 1 if x >= 0 else -1\n",
    "    x = abs(x)\n",
    "\n",
    "    # constants\n",
    "    a1 =  0.254829592\n",
    "    a2 = -0.284496736\n",
    "    a3 =  1.421413741\n",
    "    a4 = -1.453152027\n",
    "    a5 =  1.061405429\n",
    "    p  =  0.3275911\n",
    "\n",
    "    # A&S formula 7.1.26\n",
    "    t = 1.0/(1.0 + p*x)\n",
    "    y = 1.0 - (((((a5*t + a4)*t) + a3)*t + a2)*t + a1)*t*math.exp(-x*x)\n",
    "    return sign*y # erf(-x) = -erf(x)\n",
    "\n",
    "\n",
    "print('{:^5}   {:7}   {:7}'.format('x', 'math.erf', \"approx erf\"))\n",
    "print('{:-^5} {:-^11} {:-^11}'.format('', '', \"\"))\n",
    "for x in [-3, -2, -1, -0.5, -0.25, 0, 0.25, 0.5, 1, 2, 3]:\n",
    "    print('{:5.2f} {:11.8f} {:11.8f}'.format(x, math.erf(x), erf(x)))"
   ]
  },
  {
   "cell_type": "code",
   "execution_count": 12,
   "metadata": {},
   "outputs": [
    {
     "name": "stdout",
     "output_type": "stream",
     "text": [
      "  x     math.erf   approx erf\n",
      "----- ----------- -----------\n",
      "-3.00 -0.99997791 -0.99997791\n",
      "-2.00 -0.99532227 -0.99532227\n",
      "-1.00 -0.84270079 -0.84270079\n",
      "-0.50 -0.52049988 -0.52049991\n",
      "-0.25 -0.27632639 -0.27632639\n",
      " 0.00  0.00000000 -0.00000003\n",
      " 0.25  0.27632639  0.27632639\n",
      " 0.50  0.52049988  0.52049991\n",
      " 1.00  0.84270079  0.84270079\n",
      " 2.00  0.99532227  0.99532227\n",
      " 3.00  0.99997791  0.99997791\n"
     ]
    }
   ],
   "source": [
    "import math\n",
    "def erf(z):\n",
    "    t = 1.0 / (1.0 + 0.5 * abs(z))\n",
    "    # use Horner's method\n",
    "    ans = 1 - t * math.exp( -z*z -  1.26551223 +\n",
    "                        t * ( 1.00002368 +\n",
    "                        t * ( 0.37409196 +\n",
    "                        t * ( 0.09678418 +\n",
    "                        t * (-0.18628806 +\n",
    "                        t * ( 0.27886807 +\n",
    "                        t * (-1.13520398 +\n",
    "                        t * ( 1.48851587 +\n",
    "                        t * (-0.82215223 +\n",
    "                        t * ( 0.17087277))))))))))\n",
    "    if z >= 0.0:\n",
    "        return ans\n",
    "    else:\n",
    "        return -ans\n",
    "\n",
    "\n",
    "print('{:^5}   {:7}   {:7}'.format('x', 'math.erf', \"approx erf\"))\n",
    "print('{:-^5} {:-^11} {:-^11}'.format('', '', \"\"))\n",
    "for x in [-3, -2, -1, -0.5, -0.25, 0, 0.25, 0.5, 1, 2, 3]:\n",
    "    print('{:5.2f} {:11.8f} {:11.8f}'.format(x, math.erf(x), erf(x)))"
   ]
  },
  {
   "cell_type": "code",
   "execution_count": null,
   "metadata": {},
   "outputs": [],
   "source": []
  },
  {
   "cell_type": "code",
   "execution_count": null,
   "metadata": {},
   "outputs": [],
   "source": []
  },
  {
   "cell_type": "code",
   "execution_count": null,
   "metadata": {},
   "outputs": [],
   "source": []
  },
  {
   "cell_type": "code",
   "execution_count": null,
   "metadata": {},
   "outputs": [],
   "source": []
  },
  {
   "cell_type": "code",
   "execution_count": null,
   "metadata": {},
   "outputs": [],
   "source": []
  }
 ],
 "metadata": {
  "kernelspec": {
   "display_name": "base",
   "language": "python",
   "name": "python3"
  },
  "language_info": {
   "codemirror_mode": {
    "name": "ipython",
    "version": 3
   },
   "file_extension": ".py",
   "mimetype": "text/x-python",
   "name": "python",
   "nbconvert_exporter": "python",
   "pygments_lexer": "ipython3",
   "version": "3.8.2"
  }
 },
 "nbformat": 4,
 "nbformat_minor": 2
}
